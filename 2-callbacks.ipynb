{
 "cells": [
  {
   "cell_type": "markdown",
   "metadata": {},
   "source": [
    "# Working with Callback Functions\n",
    "\n",
    "MIP solvers are complicated combinations of many techniques: cutting planes, heuristics, branching rules, etc.\n",
    "\n",
    "Some solvers allow you to customize aspects of the solve process in a deeper way than just setting options for these parameters. You can provide code to be run when certain events happen, and the solver **calls back** to these functions to ask what action(s) should be taken. Why might you want to do this?\n",
    "\n",
    "* The solver is struggling to find an integer solution. You know an efficient way to take a fractional solution and convert it to a good, if not optimal, integer solution. You can put this algorithm inside a **heuristic callback** that is called whenever a new fractional solution is found.\n",
    "* You have done an analysis of the structure of your MIP and have realized that you can find constraints that will cut off fractional solutions so that your LP relaxation is closer to integer points. You can write this as a **cut callback**.\n",
    "\n",
    "The examples we look at today will demonstrate cuts that are even more critical than these two types, because it enables whole types of problems to be solved that would be very difficult otherwise. In particular, consider a problem that has a very large number of constraints, **most of which will not be binding at the optimal solution**. This suggests that we probably don't need all those constraints to provided explicitly to the solver - instead, we can provide them implicitly with a **lazy constraint/cut callback**."
   ]
  },
  {
   "cell_type": "markdown",
   "metadata": {
    "collapsed": false
   },
   "source": [
    "## Application 1: Sparse Linear Regression"
   ]
  },
  {
   "cell_type": "code",
   "execution_count": null,
   "metadata": {
    "collapsed": true
   },
   "outputs": [],
   "source": []
  },
  {
   "cell_type": "markdown",
   "metadata": {
    "collapsed": false
   },
   "source": [
    "## Application 2: Robust Portfolio Optimization\n",
    "\n",
    "Portfolio optmization is the problem of constructing a portfolio of assets to maximize returns, but usually with some consideration towards the risk of the portfolio. If we maximize for return, we will usually also have the highest chance of losing money. On the other hand, there is often a (very) low risk option that has minimal returns (e.g. US government bonds). We seek to construct optimization models that are let us explore this spectrum of options.\n",
    "\n",
    "The \"stochastic programming\" approach would estimate a probability distribution from data for each asset we are considering purchasing, and then we can do things like\n",
    "\n",
    "- minimize $StdDev[Profit]$, subject to $Exp[Profit] \\geq P_{min}$\n",
    "- maximize $E[Profit]$, subject to $StdDev[Profit] \\leq S_{max}$\n",
    "\n",
    "**Robust optimization** is an alternative method that, instead of saying that the uncertain return of the assets coming from probability distributions, says the returns are drawn from a bounded set of outcomes: an **uncertainty set**.\n",
    "\n",
    "### Setting up the Problem\n",
    "\n",
    "We will consider the following robust portfolio problem.\n",
    "\n",
    "- Let $0 \\leq x_i \\leq 1$ be the share of our money we put into asset $i$.\n",
    "  - We need the additional constraint then that $\\mathbf{e}^\\prime \\mathbf{x} = 1$\n",
    "  - We'll also impose a restriction that we can use no more than a quarter of the assets available.\n",
    "  - Let $y_i \\in \\{0,1\\}$, $y_i = 1 \\iff x_i > 0$, and $\\mathbf{e}^\\prime \\mathbf{y} \\leq \\frac{N}{4}$\n",
    "\n",
    "- Let $p_i$ be the uncertain profit for asset $i$, with $\\mathbf{p}\\in U$, where...\n",
    "\n",
    "- $U$ is out uncertainty set. By varying its size and shape of the uncertainty set $U$ we can tradeoff between expected return and the worst-case return. We will assume we have (as data)\n",
    "  - $\\bar{p}_i$, the expected return of each asset\n",
    "  - $\\sigma_i$, the standard devition of return for each asset\n",
    "\n",
    "We will use the **ellipsoidal uncertainty set**\n",
    "\n",
    "$$ U^\\Gamma = \\left\\{ \\mathbf{p} \\mid p_i = \\bar{p}_i + \\sigma_i d_i, \\|\\mathbf{d}\\|\\leq \\Gamma \\right\\}$$\n",
    "\n",
    "*on board: diagram*\n",
    "\n",
    "So we can write out our problem now as\n",
    "\n",
    "$$\n",
    "\\max_{z, \\mathbf{x}\\geq \\mathbf{0}} z \\quad \\text{subject to}\\\\\n",
    "z \\leq \\mathbf{p}^\\prime \\mathbf{x} \\quad \\forall \\mathbf{p} \\in U \\\\\n",
    "\\mathbf{e}^\\prime \\mathbf{x} = 1 \\\\\n",
    "y_i \\geq x_i \\\\\n",
    "\\mathbf{e}^\\prime \\mathbf{y} \\leq \\frac{N}{4}\n",
    "$$\n",
    "\n",
    "The problem with the first constraint is that it is actually an **infinite** number of constraints - one for every possible value of $\\mathbf{p}$. We conjecture though that only a small number of them are needed to a get solution that \"mostly\" satisifes that constraint. We'll add them lazily using **lazy constraints** in JuMP with Gurobi. \n",
    "\n",
    "Whenever Gurobi finds a new integer-feasible solution $\\left( \\mathbf{x}^\\ast, \\mathbf{y}^\\ast, z^\\ast \\right)$, we will try to generate a new constraint. We do that by solving an **embedded** optimization problem:\n",
    "\n",
    "$$CUT(\\mathbf{x}^\\ast) = {\\arg \\min}_{\\mathbf{p}\\in U} \\mathbf{p}^\\prime \\mathbf{x}^\\ast$$\n",
    "\n",
    "*on board: diagram*\n",
    "\n",
    "We'll only add this new constraint if the it'd be violated by the current solution by more than a tolerance. Today we'll actually solve this embedded problem using Gurobi, but as an **exercise** you can solve it in closed-form - see how much of an improvement in solve times you get!"
   ]
  },
  {
   "cell_type": "code",
   "execution_count": 6,
   "metadata": {
    "collapsed": false
   },
   "outputs": [
    {
     "name": "stdout",
     "output_type": "stream",
     "text": [
      "Optimize a model with 358 rows, 729 columns and 2950 nonzeros\n",
      "Variable types: 0 continuous, 729 integer (729 binary)\n",
      "Coefficient statistics:\n",
      "  Matrix range     [1e+00, 1e+00]\n",
      "  Objective range  [0e+00, 0e+00]\n",
      "  Bounds range     [1e+00, 1e+00]\n",
      "  RHS range        [1e+00, 1e+00]\n",
      "Presolve removed 358 rows and 729 columns\n",
      "Presolve time: 0.00s\n",
      "Presolve: All rows and columns removed\n",
      "\n",
      "Explored 0 nodes (0 simplex iterations) in 0.00 seconds\n",
      "Thread count was 1 (of 4 available processors)\n",
      "\n",
      "Solution count 1: 0 \n",
      "Pool objective bound 0\n",
      "\n",
      "Optimal solution found (tolerance 1.00e-04)\n",
      "Best objective 0.000000000000e+00, best bound 0.000000000000e+00, gap -\n",
      "  0.227824 seconds (114.97 k allocations: 3.850 MB)\n"
     ]
    },
    {
     "name": "stderr",
     "output_type": "stream",
     "text": [
      "WARNING: Method definition sudoku2() in module Main at In[5]:2 overwritten at In[6]:2.\n"
     ]
    }
   ],
   "source": [
    "using JuMP, Gurobi\n",
    "\n",
    "# Generate data\n",
    "n = 20\n",
    "p̄ = [1.15 + i*0.05/150 for i in 1:n]\n",
    "σ = [0.05/450*√(2*i*n*(n+1)) for i in 1:n]\n",
    "\n",
    "function solve_portfolio()\n",
    "    port = Model(solver=GurobiSolver())\n",
    "    \n",
    "    @variable(port, z ≤ maximum(p̄))\n",
    "    @objective(port, Max, z)\n",
    "    @variable(port, 0 ≤ x[1:n] ≤ 1)\n",
    "    @constraint(port, sum(x) == 1)\n",
    "    \n",
    "    @variable(port, y[1:n], Bin)\n",
    "    for i in 1:n\n",
    "        @constraint(port, y[i] ≥ x[i])\n",
    "    end\n",
    "    @constraint(port, sum(y) ≤ div(n,4))\n",
    "    \n",
    "    # Link z to x\n",
    "    function portobj(cb)\n",
    "        # Get values of z and x\n",
    "        zval = getValue(z)\n",
    "        xval = getValue(x)[:]\n",
    "    \n",
    "        # Find most pessimistic value of p'x\n",
    "        # over all p in the uncertainty set\n",
    "        rob = Model(solver=GurobiSolver(OutputFlag=0))\n",
    "        @variable(rob, p[i=1:n])\n",
    "        @variable(rob, d[i=1:n])\n",
    "        @objective(rob, Min, dot(xval,p))\n",
    "        Γ = sqrt(10)\n",
    "        @constraint(rob, sum{d[i]^2,i=1:n} ≤ Γ^2)\n",
    "        for i in 1:n\n",
    "            @constraint(rob, p[i] == p̄[i] + σ[i]*d[i])\n",
    "        end\n",
    "        solve(rob)\n",
    "        worst_z = getObjectiveValue(rob)\n",
    "        @show (zval, worst_z)\n",
    "        worst_p = getValue(p)[:]\n",
    "        \n",
    "        # Is this worst_p going to change the objective\n",
    "        # because worst_z is worse than the current z?\n",
    "        if worst_z < zval - 1e-2\n",
    "            # Yep, we've made things worse!\n",
    "            # Gurobi should try to find a better portfolio now\n",
    "            @lazyconstraint(cb, z ≤ dot(worst_p,x))\n",
    "        end\n",
    "    end\n",
    "    setLazyCallback(port, portobj)\n",
    "    \n",
    "    solve(port)\n",
    "    \n",
    "    return getValue(x)[:]\n",
    "end\n",
    "\n",
    "solve_portfolio()"
   ]
  },
  {
   "cell_type": "markdown",
   "metadata": {},
   "source": [
    "### Exercise: Replace inner model with closed form expression\n",
    "\n",
    "The cutting plane problem was:\n",
    "\n",
    "$${\\min}_{\\mathbf{p}\\in U} \\mathbf{p}^\\prime \\mathbf{x}^\\ast$$\n",
    "\n",
    "$$ U^\\Gamma = \\left\\{ \\mathbf{p} \\mid p_i = \\bar{p}_i + \\sigma_i d_i, \\|\\mathbf{d}\\|\\leq \\Gamma \\right\\}$$\n",
    "\n",
    "Lets do a little rearrangement, so instead it is\n",
    "\n",
    "$$ U^\\Gamma = \\left\\{ \\mathbf{p} \\mid \\sqrt{\\sum_{i=1}^n \\left( \\frac{p_i - \\bar{p}_i}{\\sigma_i} \\right)} \\leq \\Gamma \\right\\}$$\n",
    "\n",
    "So the problem is maximizing a linear function over an ellipse, which if you go through the KKT conditions you'll find has a nice closed form solution:\n",
    "\n",
    "$$ p^\\ast_i = \\bar{p}_i + \\frac{\\Gamma}{\\| diag(\\sigma) \\mathbf{x}^\\ast \\|} \\sigma^2_i x^\\ast_i$$"
   ]
  },
  {
   "cell_type": "code",
   "execution_count": null,
   "metadata": {
    "collapsed": true
   },
   "outputs": [],
   "source": [
    "# Convergence Plots"
   ]
  },
  {
   "cell_type": "code",
   "execution_count": null,
   "metadata": {
    "collapsed": true
   },
   "outputs": [],
   "source": [
    "# Extracting intermediate solutions"
   ]
  },
  {
   "cell_type": "code",
   "execution_count": null,
   "metadata": {
    "collapsed": true
   },
   "outputs": [],
   "source": []
  }
 ],
 "metadata": {
  "kernelspec": {
   "display_name": "Julia 0.5.0",
   "language": "julia",
   "name": "julia-0.5"
  },
  "language_info": {
   "file_extension": ".jl",
   "mimetype": "application/julia",
   "name": "julia",
   "version": "0.5.0"
  }
 },
 "nbformat": 4,
 "nbformat_minor": 0
}
