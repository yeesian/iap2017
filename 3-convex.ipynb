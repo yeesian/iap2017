{
 "cells": [
  {
   "cell_type": "markdown",
   "metadata": {},
   "source": [
    "# Convex optimization\n",
    "\n",
    "So far we've been thinking about reformulations of into mixed-integer linear optimization problems of the form\n",
    "\n",
    "\\begin{align}\n",
    "\\min \\quad&f(x)\\\\\n",
    "\\text{s.t.} \\quad& g(x) = 0, \\\\\n",
    "& h(x) \\leq 0.\n",
    "\\end{align}\n",
    "where the functions $f$ and $g$ and $h$ are affine/linear.\n",
    "\n",
    "A special class of nonlinear optimization problems are *convex* optimization problems where $f$ and $h$ are convex and $g$ is affine. Under some additional regularity assumptions, much of the duality theory from linear programming can be extended to convex optimization, and there exist efficient (polynomial-time) algorithms to solve these problems. With few exceptions, if your problem is convex, you can expect to be able to solve it efficiently."
   ]
  },
  {
   "cell_type": "markdown",
   "metadata": {},
   "source": [
    "## Detecting convexity\n",
    "\n",
    "A function $f: \\mathbb{R}^n \\to \\mathbb{R}$ is convex iff $f(\\theta x + (1-\\theta)y) \\leq \\theta f(x) + (1-\\theta)f(y), \\forall x,y \\in \\mathbb{R}^n \\text{ and } \\theta \\in [0,1]$.\n",
    "\n",
    "Given an arbitrary function $f$, detecting if $f$ is convex is [NP-Hard](http://web.mit.edu/~a_a_a/Public/Publications/convexity_nphard.pdf). So how do we know if a problem is convex?\n",
    "\n",
    "A reasonable approach is to make sure that a model is built-up in a manner that lets us prove convexity by using a calculus of convex analysis; this is  **Disciplined Convex Programming** (DCP).\n",
    "\n",
    "We start with operations that are known to be convex:\n",
    "- Norms (why?)\n",
    "- $\\exp(\\cdot)$\n",
    "- $-\\log(\\cdot)$\n",
    "- $x^p$ for $p \\geq 1$ and $x \\geq 0$.\n",
    "- $1/x$ for $x > 0$\n",
    "- $x^2$\n",
    "- ...\n",
    "\n",
    "Then add composition rules, e.g., $f(g(\\cdot))$ is convex when $f$ is convex and\n",
    "- $g$ is linear or affine\n",
    "- $f$ is monotonic increasing and $g$ is convex\n",
    "\n",
    "Also, $f_1+f_2$ and $\\max\\{f_1,f_2\\}$ are convex when $f_1$ and $f_2$ are convex.\n",
    "\n",
    "So our previous example of $x^2 - \\log(x)$ is convex by these rules, because it is the sum of convex functions. So is $\\max\\{e^x,1/x\\}$ ([plot](http://www.wolframalpha.com/input/?i=max%28exp%28x%29%2C1%2Fx%29+for+x+%3E+0)).\n",
    "\n",
    "Note that these rules are *sufficient* but not *necessary* to prove convexity. \n",
    "\n",
    "There are a lot of existing materials on DCP which we won't try to reproduce here. Let's head over to http://dcp.stanford.edu/."
   ]
  },
  {
   "cell_type": "markdown",
   "metadata": {},
   "source": [
    ">**\\[Exercise\\]**: DCP Quiz\n",
    "\n",
    "> Play the [DCP quiz](http://dcp.stanford.edu/quiz). Turn up the difficulty to hard for extra fun!"
   ]
  },
  {
   "cell_type": "markdown",
   "metadata": {},
   "source": [
    "## Solving \"DCP-compliant\" problems\n",
    "\n",
    "DCP rules are useful not just for proving convexity, but also for *solving* the problems.\n",
    "\n",
    "For example, we (should) know that the following problem\n",
    "\\begin{align}\n",
    "\\min \\quad& {||}x||_1\\\\\n",
    "\\text{s.t.} \\quad& Ax = b, \\\\\n",
    "& x \\geq 0,\n",
    "\\end{align}\n",
    "\n",
    "where $||x||_1 = \\sum_i |x_i|$ can be solved by using linear programming.\n",
    "\n",
    "Just introduce auxiliary variables $z$ and solve\n",
    "\\begin{align}\n",
    "\\min \\quad& \\sum_i z_i\\\\\n",
    "\\text{s.t.} \\quad&z_i \\geq x_i, \\forall i\\\\\n",
    "& z_i \\geq -x_i, \\forall i\\\\\n",
    "& Ax = b, \\\\\n",
    "& x \\geq 0,\n",
    "\\end{align}\n",
    "\n",
    "Similarly\n",
    "\\begin{align}\n",
    "\\min \\quad& {||}x||_\\infty\\\\\n",
    "\\text{s.t.} \\quad& Ax = b, \\\\\n",
    "& x \\geq 0,\n",
    "\\end{align}\n",
    "\n",
    "where $||x||_\\infty = \\max\\{|x_1|,\\cdots,|x_n|\\}$ can be formulated as\n",
    "\n",
    "\\begin{align}\n",
    "\\min \\quad& z\\\\\n",
    "\\text{s.t.} \\quad&z \\geq x_i, \\forall i\\\\\n",
    "& z \\geq -x_i, \\forall i\\\\\n",
    "& Ax = b, \\\\\n",
    "& x \\geq 0,\n",
    "\\end{align}\n",
    "\n",
    "(What do we do when $||\\cdot||_1$ and $||\\cdot||_\\infty$ appear in convex constraints?)\n",
    "\n",
    "Given these results, we might say that $||\\cdot||_1$ and $||\\cdot||_\\infty$ are *LP-representable*, in a sense that can be made rigorous.\n",
    "\n",
    "What about $||\\cdot||_2$? It's SOCP (second-order conic programming) representable, since\n",
    "$$\n",
    "||x||_2 \\leq t\n",
    "$$\n",
    "is precisely a second-order conic constraint that's already supported by Gurobi, CPLEX, MOSEK, ECOS, SCS, ...\n",
    "\n",
    "What about $1/x$? It's also SOCP representable since\n",
    "$$\n",
    "1/x \\leq t\n",
    "$$\n",
    "iff\n",
    "$$\n",
    "||(2,x-t)||_2 \\leq x+t.\n",
    "$$\n",
    "\n",
    "It turns out that [A LOT](http://docs.mosek.com/generic/modeling-letter.pdf) of common convex functions are SOCP-representable.\n",
    "\n",
    "Once we know how to represent basic operations using LPs or SOCPs, we can easily compose them. For example, we would represent\n",
    "\n",
    "\\begin{align}\n",
    "\\min \\quad& \\max\\{||Cx-d||,1/x_1\\}\\\\\n",
    "\\text{s.t.} \\quad& Ax = b, \\\\\n",
    "& x \\geq 0,\n",
    "\\end{align}\n",
    "\n",
    "as\n",
    "\n",
    "\\begin{align}\n",
    "\\min \\quad& t\\\\\n",
    "\\text{s.t.} \\quad& t \\geq z_1 \\\\\n",
    "&t \\geq z_2\\\\\n",
    "&{||}Cx-d|| \\leq z_1\\\\\n",
    "&{||}(2,x_1-z_2)|| \\leq x_1+z_2\\\\\n",
    "& Ax = b, \\\\\n",
    "& x \\geq 0,\n",
    "\\end{align}\n",
    "\n",
    "and hand the problem off to Gurobi as an SOCP."
   ]
  },
  {
   "cell_type": "markdown",
   "metadata": {},
   "source": [
    "## DCP in summary\n",
    "\n",
    "- Represent the model in a way that makes it easy to use DCP rules to prove convexity.\n",
    "- Break down the individual pieces into parts that are representable using LP, SOCP, semidefinite programming, (or exponential cones)\n",
    "- Use composition rules to *automatically* generate a complete formulation that can be given to existing solvers\n",
    "- Note that derivatives aren't used anywhere!\n",
    "\n",
    "The first implementation of DCP was [CVX](http://cvxr.com/cvx/) in MATLAB. More recently, it's been implemented in [cvxpy](https://github.com/cvxgrp/cvxpy) and [Convex.jl](https://github.com/JuliaOpt/Convex.jl)."
   ]
  },
  {
   "cell_type": "markdown",
   "metadata": {},
   "source": [
    "# Quick convex prototyping"
   ]
  },
  {
   "cell_type": "code",
   "execution_count": 4,
   "metadata": {
    "collapsed": false
   },
   "outputs": [
    {
     "name": "stderr",
     "output_type": "stream",
     "text": [
      "WARNING: Method definition norm(Convex.AbstractExpr, Symbol) in module Convex at /Users/yeesian/.julia/v0.5/Convex/src/atoms/second_order_cone/norm.jl:45 overwritten at deprecated.jl:49.\n"
     ]
    }
   ],
   "source": [
    "using Convex"
   ]
  },
  {
   "cell_type": "markdown",
   "metadata": {},
   "source": [
    "## Variables"
   ]
  },
  {
   "cell_type": "code",
   "execution_count": 5,
   "metadata": {
    "collapsed": false
   },
   "outputs": [
    {
     "data": {
      "text/plain": [
       "Variable of\n",
       "size: (1, 1)\n",
       "sign: Convex.NoSign()\n",
       "vexity: Convex.AffineVexity()"
      ]
     },
     "execution_count": 5,
     "metadata": {},
     "output_type": "execute_result"
    }
   ],
   "source": [
    "# Scalar variable\n",
    "x = Variable()"
   ]
  },
  {
   "cell_type": "code",
   "execution_count": 6,
   "metadata": {
    "collapsed": false
   },
   "outputs": [
    {
     "data": {
      "text/plain": [
       "Variable of\n",
       "size: (4, 1)\n",
       "sign: Convex.NoSign()\n",
       "vexity: Convex.AffineVexity()"
      ]
     },
     "execution_count": 6,
     "metadata": {},
     "output_type": "execute_result"
    }
   ],
   "source": [
    "# (Column) vector variable\n",
    "y = Variable(4)"
   ]
  },
  {
   "cell_type": "code",
   "execution_count": 7,
   "metadata": {
    "collapsed": false
   },
   "outputs": [
    {
     "data": {
      "text/plain": [
       "Variable of\n",
       "size: (4, 4)\n",
       "sign: Convex.NoSign()\n",
       "vexity: Convex.AffineVexity()"
      ]
     },
     "execution_count": 7,
     "metadata": {},
     "output_type": "execute_result"
    }
   ],
   "source": [
    "# Matrix variable\n",
    "Z = Variable(4, 4)"
   ]
  },
  {
   "cell_type": "markdown",
   "metadata": {},
   "source": [
    "## Expressions\n",
    "Convex.jl allows you to use a [wide variety of functions](http://convexjl.readthedocs.org/en/latest/operations.html) on variables and on expressions to form new expressions."
   ]
  },
  {
   "cell_type": "code",
   "execution_count": 8,
   "metadata": {
    "collapsed": false
   },
   "outputs": [
    {
     "data": {
      "text/plain": [
       "AbstractExpr with\n",
       "head: +\n",
       "size: (1, 1)\n",
       "sign: Convex.NoSign()\n",
       "vexity: Convex.AffineVexity()\n"
      ]
     },
     "execution_count": 8,
     "metadata": {},
     "output_type": "execute_result"
    }
   ],
   "source": [
    "x + 2x"
   ]
  },
  {
   "cell_type": "code",
   "execution_count": 9,
   "metadata": {
    "collapsed": false
   },
   "outputs": [
    {
     "data": {
      "text/plain": [
       "AbstractExpr with\n",
       "head: +\n",
       "size: (1, 1)\n",
       "sign: Convex.NoSign()\n",
       "vexity: Convex.ConcaveVexity()\n"
      ]
     },
     "execution_count": 9,
     "metadata": {},
     "output_type": "execute_result"
    }
   ],
   "source": [
    "e = y[1] + logdet(Z) + sqrt(x) + minimum(y)"
   ]
  },
  {
   "cell_type": "markdown",
   "metadata": {},
   "source": [
    "### Examine the expression tree"
   ]
  },
  {
   "cell_type": "code",
   "execution_count": 10,
   "metadata": {
    "collapsed": false
   },
   "outputs": [
    {
     "data": {
      "text/plain": [
       "AbstractExpr with\n",
       "head: logdet\n",
       "size: (1, 1)\n",
       "sign: Convex.NoSign()\n",
       "vexity: Convex.ConcaveVexity()\n"
      ]
     },
     "execution_count": 10,
     "metadata": {},
     "output_type": "execute_result"
    }
   ],
   "source": [
    "e.children[2]"
   ]
  },
  {
   "cell_type": "markdown",
   "metadata": {},
   "source": [
    "## Constraints\n",
    "\n",
    "A constraint is convex if convex combinations of feasible points are also feasible. Equivalently, feasible sets are convex sets.\n",
    "\n",
    "In other words, convex constraints are of the form\n",
    "\n",
    "* `convexExpr <= 0`\n",
    "* `concaveExpr >= 0`\n",
    "* `affineExpr == 0`"
   ]
  },
  {
   "cell_type": "code",
   "execution_count": 11,
   "metadata": {
    "collapsed": false
   },
   "outputs": [
    {
     "data": {
      "text/plain": [
       "Constraint:\n",
       "<= constraint\n",
       "lhs: Variable of\n",
       "size: (1, 1)\n",
       "sign: Convex.NoSign()\n",
       "vexity: Convex.AffineVexity()\n",
       "rhs: 0\n",
       "vexity: Convex.AffineVexity()"
      ]
     },
     "execution_count": 11,
     "metadata": {},
     "output_type": "execute_result"
    }
   ],
   "source": [
    "x <= 0"
   ]
  },
  {
   "cell_type": "code",
   "execution_count": 12,
   "metadata": {
    "collapsed": false
   },
   "outputs": [
    {
     "data": {
      "text/plain": [
       "Constraint:\n",
       "<= constraint\n",
       "lhs: AbstractExpr with\n",
       "head: qol_elem\n",
       "size: (1, 1)\n",
       "sign: Convex.Positive()\n",
       "vexity: Convex.ConvexVexity()\n",
       "\n",
       "rhs: AbstractExpr with\n",
       "head: sum\n",
       "size: (1, 1)\n",
       "sign: Convex.NoSign()\n",
       "vexity: Convex.AffineVexity()\n",
       "\n",
       "vexity: Convex.ConvexVexity()"
      ]
     },
     "execution_count": 12,
     "metadata": {},
     "output_type": "execute_result"
    }
   ],
   "source": [
    "x^2 <= sum(y)"
   ]
  },
  {
   "cell_type": "code",
   "execution_count": 13,
   "metadata": {
    "collapsed": false
   },
   "outputs": [
    {
     "data": {
      "text/plain": [
       "Constraint:\n",
       "sdp constraint\n",
       "expression: AbstractExpr with\n",
       "head: +\n",
       "size: (4, 4)\n",
       "sign: Convex.NoSign()\n",
       "vexity: Convex.AffineVexity()\n",
       "\n"
      ]
     },
     "execution_count": 13,
     "metadata": {},
     "output_type": "execute_result"
    }
   ],
   "source": [
    "M = Z \n",
    "for i = 1:length(y)\n",
    "    M += rand(size(Z))*y[i]\n",
    "end\n",
    "M ⪰ 0"
   ]
  },
  {
   "cell_type": "markdown",
   "metadata": {},
   "source": [
    "## Problems"
   ]
  },
  {
   "cell_type": "code",
   "execution_count": 14,
   "metadata": {
    "collapsed": false
   },
   "outputs": [
    {
     "name": "stderr",
     "output_type": "stream",
     "text": [
      "WARNING: print_joined is deprecated, use join instead.\n",
      " in depwarn(::String, ::Symbol) at ./deprecated.jl:64\n",
      " in print_joined(::IOContext{"
     ]
    },
    {
     "data": {
      "text/plain": [
       "Problem:\n",
       "minimize AbstractExpr with\n",
       "head: +\n",
       "size: (1, 1)\n",
       "sign: Convex.NoSign()\n",
       "vexity: Convex.ConvexVexity()\n",
       "\n",
       "subject to\n",
       "Constraint:\n",
       ">= constraint\n",
       "lhs: Variable of\n",
       "size: (1, 1)\n",
       "sign: Convex.NoSign()\n",
       "vexity: Convex.AffineVexity()\n",
       "rhs: AbstractExpr with\n",
       "head: maximum\n",
       "size: (1, 1)\n",
       "sign: Convex.NoSign()\n",
       "vexity: Convex.ConvexVexity()\n",
       "\n",
       "vexity: Convex.ConvexVexity()\n",
       "current status: not yet solved"
      ]
     },
     "execution_count": 14,
     "metadata": {},
     "output_type": "execute_result"
    }
   ],
   "source": [
    "x = Variable()\n",
    "y = Variable(4)\n",
    "objective = 2*x + 1 - sqrt(sum(y))\n",
    "constraint = x >= maximum(y)\n",
    "p = minimize(objective, constraint)"
   ]
  },
  {
   "cell_type": "code",
   "execution_count": 15,
   "metadata": {
    "collapsed": false
   },
   "outputs": [
    {
     "name": "stderr",
     "output_type": "stream",
     "text": [
      "Base.AbstractIOBuffer{Array{UInt8,1}}}, ::Vararg{Any,N}) at ./deprecated.jl:30\n",
      " in show(::IOContext{Base.AbstractIOBuffer{Array{UInt8,1}}}, ::Convex.Problem) at /Users/yeesian/.julia/v0.5/Convex/src/utilities/show.jl:81\n",
      " in limitstringmime(::MIME{Symbol(\"text/plain\")}, ::Convex.Problem) at /Users/yeesian/.julia/v0.5/IJulia/src/execute_request.jl:31\n",
      " in display_dict(::Convex.Problem) at /Users/yeesian/.julia/v0.5/IJulia/src/execute_request.jl:46\n",
      " in execute_request(::ZMQ.Socket, ::IJulia.Msg) at /Users/yeesian/.julia/v0.5/IJulia/src/execute_request.jl:206\n",
      " in eventloop(::ZMQ.Socket) at /Users/yeesian/.julia/v0.5/IJulia/src/eventloop.jl:8\n",
      " in (::IJulia.##13#19)() at ./task.jl:360\n",
      "while loading /Users/yeesian/.julia/v0.5/IJulia/src/kernel.jl, in expression starting on line 31\n"
     ]
    },
    {
     "name": "stdout",
     "output_type": "stream",
     "text": [
      "Optimize a model with 11 rows, 11 columns and 29 nonzeros\n",
      "Model has 1 quadratic constraint\n",
      "Coefficient statistics:\n",
      "  Matrix range     [1e+00, 2e+00]\n",
      "  QMatrix range    [1e+00, 1e+00]\n",
      "  Objective range  [1e+00, 1e+00]\n",
      "  Bounds range     [0e+00, 0e+00]\n",
      "  RHS range        [1e+00, 1e+00]\n",
      "Presolve removed 5 rows and 3 columns\n",
      "Presolve time: 0.00s\n",
      "Presolved: 6 rows, 8 columns, 23 nonzeros\n",
      "Presolved model has 1 second-order cone constraint\n",
      "Ordering time: 0.00s\n",
      "\n",
      "Barrier statistics:\n",
      " Free vars  : 4\n",
      " AA' NZ     : 1.500e+01\n",
      " Factor NZ  : 2.100e+01\n",
      " Factor Ops : 9.100e+01 (less than 1 second per iteration)\n",
      " Threads    : 1\n",
      "\n",
      "                  Objective                Residual\n",
      "Iter       Primal          Dual         Primal    Dual     Compl     Time\n",
      "   0   1.20000000e+00  1.00000000e+00  4.99e-03 2.00e+00  2.72e-01     0s\n",
      "   1   1.06111542e+00  9.83347049e-01  5.64e-09 1.05e+00  1.20e-01     0s\n",
      "   2   7.44842024e-01  9.06531320e-01  8.67e-10 5.80e-01  4.68e-02     0s\n",
      "   3   5.66162545e-01  7.27141450e-01  1.70e-10 1.68e-01  4.16e-03     0s\n",
      "   4   5.14515362e-01  5.22590869e-01  6.55e-11 1.38e-02  1.83e-03     0s\n",
      "   5   5.05365400e-01  4.97284408e-01  2.93e-12 4.49e-06  1.01e-03     0s\n",
      "   6   5.01537242e-01  4.99709986e-01  3.51e-13 3.80e-07  2.28e-04     0s\n",
      "   7   5.00016404e-01  4.99997947e-01  1.81e-13 1.85e-08  2.31e-06     0s\n",
      "   8   5.00000068e-01  4.99999991e-01  3.85e-11 1.46e-09  1.00e-08     0s\n",
      "\n",
      "Barrier solved model in 8 iterations and 0.00 seconds\n",
      "Optimal objective 5.00000068e-01\n",
      "\n"
     ]
    },
    {
     "data": {
      "text/plain": [
       ":Optimal"
      ]
     },
     "execution_count": 15,
     "metadata": {},
     "output_type": "execute_result"
    }
   ],
   "source": [
    "# solve the problem\n",
    "solve!(p)\n",
    "p.status"
   ]
  },
  {
   "cell_type": "code",
   "execution_count": 16,
   "metadata": {
    "collapsed": false
   },
   "outputs": [
    {
     "data": {
      "text/plain": [
       "0.24993603982319862"
      ]
     },
     "execution_count": 16,
     "metadata": {},
     "output_type": "execute_result"
    }
   ],
   "source": [
    "x.value"
   ]
  },
  {
   "cell_type": "code",
   "execution_count": 17,
   "metadata": {
    "collapsed": false
   },
   "outputs": [
    {
     "data": {
      "text/plain": [
       "1×1 Array{Float64,2}:\n",
       " 0.5"
      ]
     },
     "execution_count": 17,
     "metadata": {},
     "output_type": "execute_result"
    }
   ],
   "source": [
    "# can evaluate expressions directly\n",
    "evaluate(objective)"
   ]
  },
  {
   "cell_type": "markdown",
   "metadata": {},
   "source": [
    "# Application 1: Elastic Net Regularization\n",
    "\n",
    "Taken from https://github.com/JuliaOpt/Convex.jl/blob/master/examples/Convex.jl_intro_ISMP2015.ipynb"
   ]
  },
  {
   "cell_type": "code",
   "execution_count": 20,
   "metadata": {
    "collapsed": false
   },
   "outputs": [
    {
     "name": "stderr",
     "output_type": "stream",
     "text": [
      "INFO: Precompiling module SCS.\n"
     ]
    },
    {
     "name": "stdout",
     "output_type": "stream",
     "text": [
      "problem status is Optimal\n",
      "optimal value is 38.17113835699274\n"
     ]
    }
   ],
   "source": [
    "# Make the Convex.jl module available\n",
    "using Convex\n",
    "using SCS # first order splitting conic solver [O'Donoghue et al., 2014]\n",
    "set_default_solver(SCSSolver(verbose=0)) # could also use Gurobi, Mosek, CPLEX, ...\n",
    "\n",
    "# Generate random problem data\n",
    "m = 50;  n = 100\n",
    "A = randn(m, n)\n",
    "x♮ = sprand(n, 1, .5) # true (sparse nonnegative) parameter vector\n",
    "noise = .1*randn(m)    # gaussian noise\n",
    "b = A*x♮ + noise      # noisy linear observations\n",
    "\n",
    "# Create a (column vector) variable of size n.\n",
    "x = Variable(n)\n",
    "\n",
    "# nonnegative elastic net with regularization\n",
    "λ = 1\n",
    "μ = 1\n",
    "problem = minimize(norm(A * x - b)^2 + λ*norm(x)^2 + μ*norm(x, 1), \n",
    "                   x >= 0)\n",
    "\n",
    "# Solve the problem by calling solve!\n",
    "solve!(problem)\n",
    "\n",
    "println(\"problem status is \", problem.status) # :Optimal, :Infeasible, :Unbounded etc.\n",
    "println(\"optimal value is \", problem.optval)"
   ]
  },
  {
   "cell_type": "markdown",
   "metadata": {},
   "source": [
    "# Application 2: Support Vector Machines (SVM)\n",
    "\n",
    "[Support vector machines](http://en.wikipedia.org/wiki/Support_vector_machine) are a popular model in machine learning for classification. We'll use this example to illustrate the basic use of Convex.jl.\n",
    "\n",
    "The basic problem is that we are given a set of N points $x_1,x_2,\\ldots, x_N \\in \\mathbb{R}^n$ and labels $y_1, y_2, \\ldots y_n \\in \\{-1,+1\\}$. And we want to find a hyperplane of the form $w^Tx-b = 0$ that *separates* the two classes, i.e. $w^Tx_i - b \\geq 1$ when $y_i = +1$ and $w^Tx_i - b \\leq -1$ when $y_i = -1$. This condition can be written as $y_i(w^Tx_i - b) \\geq 1, \\forall\\, i$.\n",
    "\n",
    "Such a hyperplane will not exist in general if the data overlap, so instead we'll just try to minimize violations of the constraint $y_i(w^Tx_i - b) \\geq 1, \\forall\\, i$ by adding a penalty when it is violated. The optimization problem can be stated as\n",
    "$$\n",
    "\\min_{w,b} \\sum_{i=1}^N \\left[\\max\\{0, 1 - y_i(w^Tx_i - b)\\}\\right] + \\gamma ||w||_2^2\n",
    "$$\n",
    "Note that we penalize the norm of $w$ in order to guarantee a unique solution.\n",
    "\n",
    "Now let's write our own SVM solver!"
   ]
  },
  {
   "cell_type": "code",
   "execution_count": 23,
   "metadata": {
    "collapsed": false
   },
   "outputs": [
    {
     "name": "stderr",
     "output_type": "stream",
     "text": [
      "INFO: Recompiling stale cache file /Users/yeesian/.julia/lib/v0.5/ECOS.ji for module ECOS.\n"
     ]
    }
   ],
   "source": [
    "using Distributions\n",
    "using PyPlot\n",
    "using Convex\n",
    "using ECOS"
   ]
  },
  {
   "cell_type": "code",
   "execution_count": 69,
   "metadata": {
    "collapsed": false
   },
   "outputs": [
    {
     "name": "stderr",
     "output_type": "stream",
     "text": [
      "WARNING: Method definition gen_data(Any) in module Main at In[64]:4 overwritten at In[69]:4.\n"
     ]
    },
    {
     "data": {
      "text/plain": [
       "gen_data (generic function with 1 method)"
      ]
     },
     "execution_count": 69,
     "metadata": {},
     "output_type": "execute_result"
    }
   ],
   "source": [
    "# Function to generate some random test data\n",
    "function gen_data(N)\n",
    "    # for +1 data, symmetric multivariate normal with center at (1,2)\n",
    "    pos = rand(MvNormal([1.0,2.0],1.0),N)\n",
    "    # for -1 data, symmetric multivariate normal with center at (-1,1)\n",
    "    neg = rand(MvNormal([-1.0,1.0],1.0),N)\n",
    "    x = [pos neg]\n",
    "    y = vcat(fill(+1,N),fill(-1,N))\n",
    "    return x,y\n",
    "end"
   ]
  },
  {
   "cell_type": "markdown",
   "metadata": {},
   "source": [
    "Let's see what the data look like."
   ]
  },
  {
   "cell_type": "code",
   "execution_count": 70,
   "metadata": {
    "collapsed": false
   },
   "outputs": [
    {
     "data": {
      "image/png": "[encoded data removed]",
      "text/plain": [
       "PyPlot.Figure(PyObject <matplotlib.figure.Figure object at 0x324ab6110>)"
      ]
     },
     "metadata": {},
     "output_type": "display_data"
    }
   ],
   "source": [
    "x,y = gen_data(100)\n",
    "plot(x[1,1:100], x[2,1:100], \"ro\", x[1,101:200], x[2,101:200], \"bo\");"
   ]
  },
  {
   "cell_type": "markdown",
   "metadata": {},
   "source": [
    "Now we translate the optimization problem into Convex.jl form."
   ]
  },
  {
   "cell_type": "code",
   "execution_count": 71,
   "metadata": {
    "collapsed": false
   },
   "outputs": [
    {
     "name": "stderr",
     "output_type": "stream",
     "text": [
      "WARNING: Method definition svm_convex(Any, Any) in module Main at In[66]:3 overwritten at In[71]:3.\n"
     ]
    },
    {
     "data": {
      "text/plain": [
       "svm_convex (generic function with 1 method)"
      ]
     },
     "execution_count": 71,
     "metadata": {},
     "output_type": "execute_result"
    }
   ],
   "source": [
    "const γ = 0.005\n",
    "function svm_convex(x,y)\n",
    "    n = size(x,1) # problem dimension\n",
    "    N = size(x,2) # number of points\n",
    "    w = Variable(n)\n",
    "    b = Variable()\n",
    "    \n",
    "    problem = minimize( γ*sumsquares(w) + sum(max(1-y.*(x'*w-b),0)))\n",
    "    solve!(problem, ECOSSolver())\n",
    "    return evaluate(w), evaluate(b)\n",
    "end"
   ]
  },
  {
   "cell_type": "markdown",
   "metadata": {},
   "source": [
    "And the solution?"
   ]
  },
  {
   "cell_type": "code",
   "execution_count": 72,
   "metadata": {
    "collapsed": false
   },
   "outputs": [
    {
     "data": {
      "image/png": "[encoded data removed]",
      "text/plain": [
       "PyPlot.Figure(PyObject <matplotlib.figure.Figure object at 0x324bbcf90>)"
      ]
     },
     "metadata": {},
     "output_type": "display_data"
    },
    {
     "name": "stdout",
     "output_type": "stream",
     "text": [
      "(w,b) = (\n",
      "[1.38353; 0.618608],\n",
      "\n",
      "0.9065403292031802)\n",
      "\n",
      "ECOS 2.0.5 - (C) embotech GmbH, Zurich Switzerland, 2012-15. Web: www.embotech.com/ECOS\n",
      "\n",
      "It     pcost       dcost      gap   pres   dres    k/t    mu     step   sigma     IR    |   BT\n",
      " 0  +4.114e+02  +3.232e+03  +2e+04  2e-01  1e+01  1e+00  4e+00    ---    ---    3  2  - |  -  - \n",
      " 1  +6.279e+02  +1.850e+03  +1e+04  5e-02  5e+00  2e+00  3e+00  0.4750  2e-01   2  1  1 |  0  0\n",
      " 2  +6.672e+02  +9.931e+02  +4e+03  1e-02  1e+00  9e-01  1e+00  0.7123  1e-01   2  1  1 |  0  0\n",
      " 3  +6.619e+02  +7.107e+02  +7e+02  1e-03  2e-01  2e-01  2e-01  0.8490  2e-02   2  1  1 |  0  0\n",
      " 4  +6.617e+02  +6.779e+02  +2e+02  5e-04  7e-02  5e-02  6e-02  0.7066  6e-02   2  1  1 |  0  0\n",
      " 5  +6.618e+02  +6.685e+02  +9e+01  2e-04  3e-02  2e-02  2e-02  0.6399  9e-02   2  1  1 |  0  0\n",
      " 6  +6.618e+02  +6.642e+02  +3e+01  7e-05  1e-02  6e-03  8e-03  0.6934  6e-02   2  1  1 |  0  0\n",
      " 7  +6.619e+02  +6.629e+02  +1e+01  3e-05  5e-03  2e-03  4e-03  0.6541  1e-01   1  1  1 |  0  0\n",
      " 8  +6.619e+02  +6.623e+02  +6e+00  1e-05  2e-03  6e-04  2e-03  0.8089  3e-01   2  1  1 |  0  0\n",
      " 9  +6.619e+02  +6.620e+02  +9e-01  2e-06  3e-04  8e-05  2e-04  0.8670  4e-03   2  1  1 |  0  0\n",
      "10  +6.619e+02  +6.619e+02  +3e-01  7e-07  1e-04  3e-05  8e-05  0.6431  6e-02   2  1  1 |  0  0\n",
      "11  +6.619e+02  +6.619e+02  +1e-02  3e-08  4e-06  8e-07  3e-06  0.9890  3e-02   3  1  1 |  0  0\n",
      "12  +6.619e+02  +6.619e+02  +1e-04  3e-10  4e-08  9e-09  3e-08  0.9890  1e-04   2  1  1 |  0  0\n",
      "13  +6.619e+02  +6.619e+02  +1e-06  3e-12  5e-10  9e-11  4e-10  0.9890  1e-04   2  1  1 |  0  0\n",
      "\n",
      "OPTIMAL (within feastol=4.7e-10, reltol=2.3e-09, abstol=1.5e-06).\n",
      "Runtime: 0.041761 seconds.\n",
      "\n"
     ]
    }
   ],
   "source": [
    "N = 1000\n",
    "x,y = gen_data(N)\n",
    "\n",
    "plot(x[1,1:N], x[2,1:N], \"ro\", x[1,(N+1):2N], x[2,(N+1):2N], \"bo\");\n",
    "w,b = svm_convex(x,y)\n",
    "\n",
    "@show w,b\n",
    "\n",
    "xmin, xmax = xlim()\n",
    "ymin, ymax = ylim()\n",
    "y1 = (1+b-w[1]*xmin)/w[2]\n",
    "y2 = (1+b-w[1]*xmax)/w[2]\n",
    "plot([xmin,xmax], [y1,y2], \"k-\");\n",
    "y1 = (-1+b-w[1]*xmin)/w[2]\n",
    "y2 = (-1+b-w[1]*xmax)/w[2]\n",
    "plot([xmin,xmax], [y1,y2], \"k-\");\n",
    "y1 = (b-w[1]*xmin)/w[2]\n",
    "y2 = (b-w[1]*xmax)/w[2]\n",
    "ylim(ymin,ymax)\n",
    "plot([xmin,xmax], [y1,y2], \"k-\");"
   ]
  },
  {
   "cell_type": "markdown",
   "metadata": {},
   "source": [
    ">**\\[Exercise\\]**: Sensitivity\n",
    "\n",
    "> Increase the separation between the positive and negative data by modifying the means in ``gen_data``. How does the solution change?\n"
   ]
  },
  {
   "cell_type": "markdown",
   "metadata": {},
   "source": [
    ">**\\[Exercise\\]**: JuMP version\n",
    "\n",
    "> Translate the Convex.jl model into a JuMP model with linear constraints and a quadratic objective. For example, ``sum_squares(w)`` becomes ``sum{w[i]^2,i=1:n}``. Hint: the formulation is given on Wikpedia. (You may want to use ``IpoptSolver`` since ``ECOSSolver`` supports second-order conic constraints but won't directly accept quadratic objectives.)"
   ]
  },
  {
   "cell_type": "markdown",
   "metadata": {},
   "source": [
    "### Discussion\n",
    "\n",
    "- Convex.jl vs. JuMP\n",
    "- Derivative-based nonlinear vs. automatic transformation to LP/SOCP/conic form"
   ]
  }
 ],
 "metadata": {
  "anaconda-cloud": {},
  "kernelspec": {
   "display_name": "Julia 0.5.0",
   "language": "julia",
   "name": "julia-0.5"
  },
  "language_info": {
   "file_extension": ".jl",
   "mimetype": "application/julia",
   "name": "julia",
   "version": "0.5.0"
  }
 },
 "nbformat": 4,
 "nbformat_minor": 0
}
